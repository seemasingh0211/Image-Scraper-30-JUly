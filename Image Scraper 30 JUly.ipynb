{
 "cells": [
  {
   "cell_type": "code",
   "execution_count": 65,
   "id": "bfd03a35",
   "metadata": {},
   "outputs": [],
   "source": [
    "import requests\n",
    "import logging\n",
    "import os\n",
    "from bs4 import BeautifulSoup\n",
    "from urllib.request import urlopen"
   ]
  },
  {
   "cell_type": "code",
   "execution_count": 66,
   "id": "7faf0ebf",
   "metadata": {},
   "outputs": [],
   "source": [
    "save_dir=\"image/\"#save_dir=\"c:/myfolderimage/image/\"\n",
    "if not os.path.exists(save_dir):\n",
    "    os.makedirs(save_dir)"
   ]
  },
  {
   "cell_type": "code",
   "execution_count": 68,
   "id": "5e31fc0a",
   "metadata": {},
   "outputs": [],
   "source": [
    "query=\"virat kohli\"\n",
    "#url=https://www.google.com/search?sca_esv=559765737&rlz=1C1GCEB_enFR1028FR1028&sxsrf=AB5stBjd4yL3g8u7SYmH-PVVpbi3mc6YsQ:1692906304065&q=query&tbm=isch&source=lnms&sa=X&ved=2ahUKEwik4pC3h_aAAxWgU6QEHSnWCtoQ0pQJegQIDhAB&biw=1707&bih=812&dpr=1.13"
   ]
  },
  {
   "cell_type": "code",
   "execution_count": 69,
   "id": "ccc3912a",
   "metadata": {},
   "outputs": [],
   "source": [
    "response=requests.get(f\"https://www.google.com/search?sca_esv=559765737&rlz=1C1GCEB_enFR1028FR1028&sxsrf=AB5stBjd4yL3g8u7SYmH-PVVpbi3mc6YsQ:1692906304065&q={query}&tbm=isch&source=lnms&sa=X&ved=2ahUKEwik4pC3h_aAAxWgU6QEHSnWCtoQ0pQJegQIDhAB&biw=1707&bih=812&dpr=1.13\")"
   ]
  },
  {
   "cell_type": "code",
   "execution_count": 70,
   "id": "35cf12e5",
   "metadata": {},
   "outputs": [
    {
     "data": {
      "text/plain": [
       "<Response [200]>"
      ]
     },
     "execution_count": 70,
     "metadata": {},
     "output_type": "execute_result"
    }
   ],
   "source": [
    "response"
   ]
  },
  {
   "cell_type": "code",
   "execution_count": 71,
   "id": "4fad21dd",
   "metadata": {},
   "outputs": [],
   "source": [
    "soup=BeautifulSoup(response.content,\"html.parser\")"
   ]
  },
  {
   "cell_type": "code",
   "execution_count": 72,
   "id": "574f5525",
   "metadata": {},
   "outputs": [
    {
     "data": {
      "text/plain": [
       "<!DOCTYPE html PUBLIC \"-//WAPFORUM//DTD XHTML Mobile 1.0//EN\" \"http://www.wapforum.org/DTD/xhtml-mobile10.dtd\">\n",
       "<html lang=\"fr\" xmlns=\"http://www.w3.org/1999/xhtml\"><head><meta content=\"application/xhtml+xml; charset=utf-8\" http-equiv=\"Content-Type\"/><meta content=\"no-cache\" name=\"Cache-Control\"/><title>virat kohli - Recherche Google</title><style>a{text-decoration:none;color:inherit}a:hover{text-decoration:underline}a img{border:0}body{font-family:arial,sans-serif;padding:8px;margin:0 auto;max-width:700px;min-width:240px;}.FbhRzb{border-left:thin solid #dadce0;border-right:thin solid #dadce0;border-top:thin solid #dadce0;height:40px;overflow:hidden}.n692Zd{margin-bottom:10px}.cvifge{height:40px;border-spacing:0}.QvGUP{height:40px;padding:0 8px 0 8px;vertical-align:top}.O4cRJf{height:40px;width:100%;padding:0;padding-right:16px}.O1ePr{height:40px;padding:0;vertical-align:top}.kgJEQe{height:36px;width:98px;vertical-align:top;margin-top:4px}.lXLRf{vertical-align:top}.MhzMZd{border:0;vertical-align:middle;font-size:14px;height:40px;padding:0;width:100%;padding-left:16px}.xB0fq{height:40px;border:none;font-size:14px;background-color:#1a73e8;color:#fff;padding:0 16px;margin:0;vertical-align:top;cursor:pointer}.xB0fq:focus{border:1px solid #1a73e8}.M7pB2{border:thin solid #dadce0;margin:0 0 3px 0;font-size:13px;font-weight:500;height:40px}.euZec{width:100%;height:40px;text-align:center;border-spacing:0}table.euZec td{padding:0;width:25%}.QIqI7{display:inline-block;padding-top:4px;font-weight:bold;color:#4285f4}.EY24We{border-bottom:2px solid #4285f4}.CsQyDc{display:inline-block;color:#70757a}.TuS8Ad{font-size:14px}.HddGcc{padding:8px;color:#70757a}.dzp8ae{font-weight:bold;color:#3c4043}.rEM8G{color:#70757a}.bookcf{table-layout:fixed;width:100%;border-spacing:0}.InWNIe{text-align:center}.uZgmoc{border:thin solid #dadce0;color:#70757a;font-size:14px;text-align:center;table-layout:fixed;width:100%}.frGj1b{display:block;padding:12px 0 12px 0;width:100%}.BnJWBc{text-align:center;padding:6px 0 13px 0;height:35px}.e3goi{vertical-align:top;padding:0;height:180px}.GpQGbf{margin:auto;border-collapse:collapse;border-spacing:0;width:100%}</style></head><body><style>.X6ZCif{color:#202124;font-size:11px;line-height:16px;display:inline-block;padding-top:2px;overflow:hidden;padding-bottom:4px;width:100%}.TwVfHd{border-radius:16px;border:thin solid #dadce0;display:inline-block;padding:8px 8px;margin-right:8px;margin-bottom:4px}.yekiAe{background-color:#dadce0}.mnTahd{width:100%}.ezO2md{border:thin solid #dadce0;padding:12px 16px 12px 16px;margin-bottom:10px;font-family:arial,sans-serif}.lIMUZd{font-family:arial,sans-serif}.IkMU6e{border-spacing:0}.SjCsie{width:100%}.EnarA{text-align:center}.NZWO1b{width:162px;height:140px;line-height:140px;overflow:'hidden';text-align:center}.yWs4tf{text-align:center;margin:auto;vertical-align:middle;max-width:162px;max-height:140px}.jB2rPd{padding-top:2px;padding-bottom:8px;}.fYyStc{word-break:break-word}.ynsChf{display:block;white-space:nowrap;overflow:hidden;text-overflow:ellipsis}.Fj3V3b{color:#1967d2;font-size:14px;line-height:20px}.FrIlee{color:#202124;font-size:11px;line-height:16px}.F9iS2e{color:#70757a;font-size:11px;line-height:16px}.WMQ2Le{color:#70757a;font-size:12px;line-height:16px}.x3G5ab{color:#202124;font-size:12px;line-height:16px}.fuLhoc{color:#1967d2;font-size:16px;line-height:20px}.epoveb{font-size:24px;line-height:28px;font-weight:400;color:#202124}.dXDvrc{color:#0d652d;font-size:14px;line-height:20px;word-wrap:break-word}.dloBPe{font-weight:bold}.YVIcad{color:#70757a}.JkVVdd{color:#ea4335}.oXZRFd{color:#ea4335}.MQHtg{color:#fbbc04}.pyMRrb{color:#1e8e3e}.EtTZid{color:#1e8e3e}.M3vVJe{color:#1967d2}.qXLe6d{display:block}.NHQNef{font-style:italic}.Cb8Z7c{white-space:pre}a.ZWRArf{text-decoration:none}a .CVA68e:hover{text-decoration:underline}.Wt3Opf{padding-bottom:12px}.HH539{border-collapse:collapse;border-spacing:0;width:100%}.bJHk6c{margin-top:12px}.eyxDDf{display:block;float:right;padding-left:16px}.VyyVAd{clear:both}.IcoMSe{padding-top:12px}.HH539 td{padding-top:0;padding-bottom:0;padding-right:8px}.HH539 .B5idHd{padding-right:0}.aJxI8c{vertical-align:top}.arj0Nc{float:left;margin-right:8px}.LOZOx{text-align:left}.X5r65c{text-align:center}.zmsLpf{text-align:right}</style><div class=\"n692Zd\"><div class=\"BnJWBc\"><a class=\"lXLRf\" href=\"/?sa=X&amp;sca_esv=559765737&amp;rlz=1C1GCEB_enFR1028FR1028&amp;biw=1707&amp;bih=812&amp;output=images&amp;ie=UTF-8&amp;tbm=isch&amp;ved=0ahUKEwi8mKS4r_2AAxXeVEEAHY9JAt0QPAgC\"><img alt=\"Google\" class=\"kgJEQe\" src=\"/images/branding/searchlogo/1x/googlelogo_desk_heirloom_color_150x55dp.gif\"/></a></div><div class=\"FbhRzb\"><form action=\"/search\"><input name=\"sca_esv\" type=\"hidden\" value=\"559765737\"/><input name=\"rlz\" type=\"hidden\" value=\"1C1GCEB_enFR1028FR1028\"/><input name=\"biw\" type=\"hidden\" value=\"1707\"/><input name=\"bih\" type=\"hidden\" value=\"812\"/><input name=\"ie\" type=\"hidden\" value=\"ISO-8859-1\"/><input name=\"tbm\" type=\"hidden\" value=\"isch\"/><input name=\"oq\" type=\"hidden\"/><input name=\"aqs\" type=\"hidden\"/><table class=\"cvifge\"><tr><td class=\"O4cRJf\"><input class=\"MhzMZd\" name=\"q\" type=\"text\" value=\"virat kohli\"/></td><td class=\"O1ePr\"><input class=\"xB0fq\" type=\"submit\" value=\"Rechercher\"/></td></tr></table></form></div><div class=\"M7pB2\"><table class=\"euZec\"><tbody><tr><td><a class=\"CsQyDc\" href=\"/search?q=virat+kohli&amp;sca_esv=559765737&amp;rlz=1C1GCEB_enFR1028FR1028&amp;biw=1707&amp;bih=812&amp;ie=UTF-8&amp;source=lnms&amp;sa=X&amp;ved=0ahUKEwi8mKS4r_2AAxXeVEEAHY9JAt0Q_AUIBCgA\">TOUS</a></td><td><a class=\"CsQyDc\" href=\"/search?q=virat+kohli&amp;sca_esv=559765737&amp;rlz=1C1GCEB_enFR1028FR1028&amp;biw=1707&amp;bih=812&amp;ie=UTF-8&amp;tbm=nws&amp;source=lnms&amp;sa=X&amp;ved=0ahUKEwi8mKS4r_2AAxXeVEEAHY9JAt0Q_AUIBSgB\">ACTUALITÉS</a></td><td class=\"EY24We\"><span class=\"QIqI7\">IMAGES</span></td><td><a class=\"CsQyDc\" href=\"/search?q=virat+kohli&amp;sca_esv=559765737&amp;rlz=1C1GCEB_enFR1028FR1028&amp;biw=1707&amp;bih=812&amp;ie=UTF-8&amp;tbm=vid&amp;source=lnms&amp;sa=X&amp;ved=0ahUKEwi8mKS4r_2AAxXeVEEAHY9JAt0Q_AUIBygD\">VIDÉOS</a></td></tr></tbody></table></div></div><div class=\"X6ZCif\"><a class=\"TwVfHd\" href=\"/search?sca_esv=559765737&amp;rlz=1C1GCEB_enFR1028FR1028&amp;biw=1707&amp;bih=812&amp;ie=UTF-8&amp;tbm=isch&amp;q=virat+kohli&amp;chips=q:virat+kohli,online_chips:sachin+tendulkar&amp;sa=X&amp;ved=0ahUKEwi8mKS4r_2AAxXeVEEAHY9JAt0Q4lYICygA\">sachin tendulkar</a><a class=\"TwVfHd\" href=\"/search?sca_esv=559765737&amp;rlz=1C1GCEB_enFR1028FR1028&amp;biw=1707&amp;bih=812&amp;ie=UTF-8&amp;tbm=isch&amp;q=virat+kohli&amp;chips=q:virat+kohli,online_chips:rohit+sharma&amp;sa=X&amp;ved=0ahUKEwi8mKS4r_2AAxXeVEEAHY9JAt0Q4lYIDCgB\">rohit sharma</a><a class=\"TwVfHd\" href=\"/search?sca_esv=559765737&amp;rlz=1C1GCEB_enFR1028FR1028&amp;biw=1707&amp;bih=812&amp;ie=UTF-8&amp;tbm=isch&amp;q=virat+kohli&amp;chips=q:virat+kohli,online_chips:kohli+century&amp;sa=X&amp;ved=0ahUKEwi8mKS4r_2AAxXeVEEAHY9JAt0Q4lYIDSgC\">kohli century</a><a class=\"TwVfHd\" href=\"/search?sca_esv=559765737&amp;rlz=1C1GCEB_enFR1028FR1028&amp;biw=1707&amp;bih=812&amp;ie=UTF-8&amp;tbm=isch&amp;q=virat+kohli&amp;chips=q:virat+kohli,online_chips:getty+images&amp;sa=X&amp;ved=0ahUKEwi8mKS4r_2AAxXeVEEAHY9JAt0Q4lYIDigD\">getty images</a><a class=\"TwVfHd\" href=\"/search?sca_esv=559765737&amp;rlz=1C1GCEB_enFR1028FR1028&amp;biw=1707&amp;bih=812&amp;ie=UTF-8&amp;tbm=isch&amp;q=virat+kohli&amp;chips=q:virat+kohli,online_chips:kohli+wikipedia&amp;sa=X&amp;ved=0ahUKEwi8mKS4r_2AAxXeVEEAHY9JAt0Q4lYIDygE\">kohli wikipedia</a><a class=\"TwVfHd\" href=\"/search?sca_esv=559765737&amp;rlz=1C1GCEB_enFR1028FR1028&amp;biw=1707&amp;bih=812&amp;ie=UTF-8&amp;tbm=isch&amp;q=virat+kohli&amp;chips=q:virat+kohli,online_chips:t20+world+cup&amp;sa=X&amp;ved=0ahUKEwi8mKS4r_2AAxXeVEEAHY9JAt0Q4lYIECgF\">t20 world cup</a></div><div><table class=\"GpQGbf\"><tr><td align=\"center\" class=\"e3goi\"><div class=\"mnTahd\"> <div> <div class=\"lIMUZd\"><div><table class=\"IkMU6e\"><tr><td><a href=\"/url?q=https://fr.wikipedia.org/wiki/Virat_Kohli&amp;sa=U&amp;ved=2ahUKEwi8mKS4r_2AAxXeVEEAHY9JAt0QqoUBegQIBhAB&amp;usg=AOvVaw2oTXqXjmX4kVNc3zv9oU6b\"><div class=\"NZWO1b\"><img alt=\"\" class=\"yWs4tf\" src=\"https://encrypted-tbn0.gstatic.com/images?q=tbn:ANd9GcT3aZOy9Wug6XHATpagbTGTDlklVruoZOpm-CI-YIPIhmobjLc7S09x85SZCmM&amp;s\"/></div></a></td></tr><tr><td><a href=\"/url?q=https://fr.wikipedia.org/wiki/Virat_Kohli&amp;sa=U&amp;ved=2ahUKEwi8mKS4r_2AAxXeVEEAHY9JAt0Qr4kDegQIBhAC&amp;usg=AOvVaw1cpt_ZPLFZ6yaNOX9qU4ul\"><div class=\"jB2rPd\"> <span class=\"qXLe6d x3G5ab\"> <span class=\"fYyStc\">Virat Kohli — Wikipédia</span> </span> <span class=\"qXLe6d F9iS2e\"> <span class=\"fYyStc\">fr.wikipedia.org</span> </span> </div></a></td></tr></table></div></div> </div> </div></td><td align=\"center\" class=\"e3goi\"><div class=\"mnTahd\"> <div> <div class=\"lIMUZd\"><div><table class=\"IkMU6e\"><tr><td><a href=\"/url?q=https://en.wikipedia.org/wiki/Virat_Kohli&amp;sa=U&amp;ved=2ahUKEwi8mKS4r_2AAxXeVEEAHY9JAt0QqoUBegQIExAB&amp;usg=AOvVaw2S5klVazA-S-yyelLKblrR\"><div class=\"NZWO1b\"><img alt=\"\" class=\"yWs4tf\" src=\"https://encrypted-tbn0.gstatic.com/images?q=tbn:ANd9GcSApOD8cC7Jh33c0VqbcFkcmx0og9wr1DYsD50a8Tp3p-0I33M_SuuLXA0Kizk&amp;s\"/></div></a></td></tr><tr><td><a href=\"/url?q=https://en.wikipedia.org/wiki/Virat_Kohli&amp;sa=U&amp;ved=2ahUKEwi8mKS4r_2AAxXeVEEAHY9JAt0Qr4kDegQIExAC&amp;usg=AOvVaw0sxMPcZqMnHrv7KGZoC6PX\"><div class=\"jB2rPd\"> <span class=\"qXLe6d x3G5ab\"> <span class=\"fYyStc\">Virat Kohli - Wikipedia</span> </span> <span class=\"qXLe6d F9iS2e\"> <span class=\"fYyStc\">en.wikipedia.org</span> </span> </div></a></td></tr></table></div></div> </div> </div></td><td align=\"center\" class=\"e3goi\"><div class=\"mnTahd\"> <div> <div class=\"lIMUZd\"><div><table class=\"IkMU6e\"><tr><td><a href=\"/url?q=https://www.gettyimages.fr/photos/virat-kohli-photos&amp;sa=U&amp;ved=2ahUKEwi8mKS4r_2AAxXeVEEAHY9JAt0QqoUBegQIFBAB&amp;usg=AOvVaw2JrGu1syUv4r1hjK9W5ih0\"><div class=\"NZWO1b\"><img alt=\"\" class=\"yWs4tf\" src=\"https://encrypted-tbn0.gstatic.com/images?q=tbn:ANd9GcSTzdbGJyTLBi4eAqh3JxsJtP1bm22Nhhd2LxJPkLHAx9U_InQz5iAiViEs3w&amp;s\"/></div></a></td></tr><tr><td><a href=\"/url?q=https://www.gettyimages.fr/photos/virat-kohli-photos&amp;sa=U&amp;ved=2ahUKEwi8mKS4r_2AAxXeVEEAHY9JAt0Qr4kDegQIFBAC&amp;usg=AOvVaw1IBR_jtd36ziHbKIM7ELcX\"><div class=\"jB2rPd\"> <span class=\"qXLe6d x3G5ab\"> <span class=\"fYyStc\">10 519 photos et images de...</span> </span> <span class=\"qXLe6d F9iS2e\"> <span class=\"fYyStc\">www.gettyimages.fr</span> </span> </div></a></td></tr></table></div></div> </div> </div></td><td align=\"center\" class=\"e3goi\"><div class=\"mnTahd\"> <div> <div class=\"lIMUZd\"><div><table class=\"IkMU6e\"><tr><td><a href=\"/url?q=https://www.sport.fr/chiffres/lincroyable-record-de-virat-kohli-legende-du-cricket-en-inde-832926.shtm&amp;sa=U&amp;ved=2ahUKEwi8mKS4r_2AAxXeVEEAHY9JAt0QqoUBegQIEhAB&amp;usg=AOvVaw1-pL-EVKMCRs1xg6rPMzGK\"><div class=\"NZWO1b\"><img alt=\"\" class=\"yWs4tf\" src=\"https://encrypted-tbn0.gstatic.com/images?q=tbn:ANd9GcQgK1euaBncWes7q-O3AAFLq6euq5aY5GJw-6UwaE4WEcqxTs-vKBVHw3HEqg&amp;s\"/></div></a></td></tr><tr><td><a href=\"/url?q=https://www.sport.fr/chiffres/lincroyable-record-de-virat-kohli-legende-du-cricket-en-inde-832926.shtm&amp;sa=U&amp;ved=2ahUKEwi8mKS4r_2AAxXeVEEAHY9JAt0Qr4kDegQIEhAC&amp;usg=AOvVaw2-sv65a7y0Zkqjb4L-KKeK\"><div class=\"jB2rPd\"> <span class=\"qXLe6d x3G5ab\"> <span class=\"fYyStc\"></span> </span> <span class=\"qXLe6d F9iS2e\"> <span class=\"fYyStc\">www.sport.fr</span> </span> </div></a></td></tr></table></div></div> </div> </div></td></tr><tr><td align=\"center\" class=\"e3goi\"><div class=\"mnTahd\"> <div> <div class=\"lIMUZd\"><div><table class=\"IkMU6e\"><tr><td><a href=\"/url?q=https://nationaltoday.com/birthday/virat-kohli/&amp;sa=U&amp;ved=2ahUKEwi8mKS4r_2AAxXeVEEAHY9JAt0QqoUBegQIDRAB&amp;usg=AOvVaw3KyNutW_y2voogxc8k0XS-\"><div class=\"NZWO1b\"><img alt=\"\" class=\"yWs4tf\" src=\"https://encrypted-tbn0.gstatic.com/images?q=tbn:ANd9GcRLqGxMbCeVkZIDV3mQfmlpSxuBcW4YTlZBp78_utfaZ7ACU-1GI0fyT3cQVA&amp;s\"/></div></a></td></tr><tr><td><a href=\"/url?q=https://nationaltoday.com/birthday/virat-kohli/&amp;sa=U&amp;ved=2ahUKEwi8mKS4r_2AAxXeVEEAHY9JAt0Qr4kDegQIDRAC&amp;usg=AOvVaw34J6jczXNDrOmV-a2WDcDa\"><div class=\"jB2rPd\"> <span class=\"qXLe6d x3G5ab\"> <span class=\"fYyStc\">Virat Kohli - Age, Bio,...</span> </span> <span class=\"qXLe6d F9iS2e\"> <span class=\"fYyStc\">nationaltoday.com</span> </span> </div></a></td></tr></table></div></div> </div> </div></td><td align=\"center\" class=\"e3goi\"><div class=\"mnTahd\"> <div> <div class=\"lIMUZd\"><div><table class=\"IkMU6e\"><tr><td><a href=\"/url?q=https://www.forbes.com/profile/virat-kohli/&amp;sa=U&amp;ved=2ahUKEwi8mKS4r_2AAxXeVEEAHY9JAt0QqoUBegQIEBAB&amp;usg=AOvVaw3V3w7qx-jf5j-YgUlxulJO\"><div class=\"NZWO1b\"><img alt=\"\" class=\"yWs4tf\" src=\"https://encrypted-tbn0.gstatic.com/images?q=tbn:ANd9GcQXhRozPeN_ofFzgMvQcHZvcplv3EpOrLtmrSnBG88kwoJo8RFn0Ev3aLykTYA&amp;s\"/></div></a></td></tr><tr><td><a href=\"/url?q=https://www.forbes.com/profile/virat-kohli/&amp;sa=U&amp;ved=2ahUKEwi8mKS4r_2AAxXeVEEAHY9JAt0Qr4kDegQIEBAC&amp;usg=AOvVaw0oGKn3acU_67fi5KPeMi9H\"><div class=\"jB2rPd\"> <span class=\"qXLe6d x3G5ab\"> <span class=\"fYyStc\">0x0.jpg?format=jpg&amp;crop=233...</span> </span> <span class=\"qXLe6d F9iS2e\"> <span class=\"fYyStc\">www.forbes.com</span> </span> </div></a></td></tr></table></div></div> </div> </div></td><td align=\"center\" class=\"e3goi\"><div class=\"mnTahd\"> <div> <div class=\"lIMUZd\"><div><table class=\"IkMU6e\"><tr><td><a href=\"/url?q=https://www.siasat.com/virat-kohli-is-perfect-for-no-4-spot-ab-de-villiers-2677827/&amp;sa=U&amp;ved=2ahUKEwi8mKS4r_2AAxXeVEEAHY9JAt0QqoUBegQIERAB&amp;usg=AOvVaw3eXWofjzcG7j19IZe-Fof7\"><div class=\"NZWO1b\"><img alt=\"\" class=\"yWs4tf\" src=\"https://encrypted-tbn0.gstatic.com/images?q=tbn:ANd9GcRHlQzK8FbwK4m2XdRphH9iGnQ03FnUFAK76rVzb2YF6De4cXrK8Jt5j9RZq9k&amp;s\"/></div></a></td></tr><tr><td><a href=\"/url?q=https://www.siasat.com/virat-kohli-is-perfect-for-no-4-spot-ab-de-villiers-2677827/&amp;sa=U&amp;ved=2ahUKEwi8mKS4r_2AAxXeVEEAHY9JAt0Qr4kDegQIERAC&amp;usg=AOvVaw2LUqTCBxdtXhZwTcqeqgEN\"><div class=\"jB2rPd\"> <span class=\"qXLe6d x3G5ab\"> <span class=\"fYyStc\">Virat Kohli is perfect for...</span> </span> <span class=\"qXLe6d F9iS2e\"> <span class=\"fYyStc\">www.siasat.com</span> </span> </div></a></td></tr></table></div></div> </div> </div></td><td align=\"center\" class=\"e3goi\"><div class=\"mnTahd\"> <div> <div class=\"lIMUZd\"><div><table class=\"IkMU6e\"><tr><td><a href=\"/url?q=https://www.sport.fr/people/virat-kohli-star-du-cricket-en-inde-prend-un-conge-paternite-733351.shtm&amp;sa=U&amp;ved=2ahUKEwi8mKS4r_2AAxXeVEEAHY9JAt0QqoUBegQIDBAB&amp;usg=AOvVaw1hJ_NBkON2PuQ2Z-ogaVtq\"><div class=\"NZWO1b\"><img alt=\"\" class=\"yWs4tf\" src=\"https://encrypted-tbn0.gstatic.com/images?q=tbn:ANd9GcTcrdhOAJfv-waAdhDc0ficB4vuwT2bBHJGs1NpXkH9vnUzVgCpjmZ9Znl2Y1I&amp;s\"/></div></a></td></tr><tr><td><a href=\"/url?q=https://www.sport.fr/people/virat-kohli-star-du-cricket-en-inde-prend-un-conge-paternite-733351.shtm&amp;sa=U&amp;ved=2ahUKEwi8mKS4r_2AAxXeVEEAHY9JAt0Qr4kDegQIDBAC&amp;usg=AOvVaw2oa3pYFYvJtzMzTGL-3akt\"><div class=\"jB2rPd\"> <span class=\"qXLe6d x3G5ab\"> <span class=\"fYyStc\"></span> </span> <span class=\"qXLe6d F9iS2e\"> <span class=\"fYyStc\">www.sport.fr</span> </span> </div></a></td></tr></table></div></div> </div> </div></td></tr><tr><td align=\"center\" class=\"e3goi\"><div class=\"mnTahd\"> <div> <div class=\"lIMUZd\"><div><table class=\"IkMU6e\"><tr><td><a href=\"/url?q=https://www.icc-cricket.com/news/3599337&amp;sa=U&amp;ved=2ahUKEwi8mKS4r_2AAxXeVEEAHY9JAt0QqoUBegQICRAB&amp;usg=AOvVaw0Wgw644iw1I-_a3-059Rr1\"><div class=\"NZWO1b\"><img alt=\"\" class=\"yWs4tf\" src=\"https://encrypted-tbn0.gstatic.com/images?q=tbn:ANd9GcSwbBCLsJiborD6Ab3Y3pia5izfWrgBhMP5wzQjxLg5ZFM7Z3_6b1OXdFtTJmA&amp;s\"/></div></a></td></tr><tr><td><a href=\"/url?q=https://www.icc-cricket.com/news/3599337&amp;sa=U&amp;ved=2ahUKEwi8mKS4r_2AAxXeVEEAHY9JAt0Qr4kDegQICRAC&amp;usg=AOvVaw2-dGx-4P0xcZzZzMAJknIW\"><div class=\"jB2rPd\"> <span class=\"qXLe6d x3G5ab\"> <span class=\"fYyStc\">Virat Kohli ends five-year...</span> </span> <span class=\"qXLe6d F9iS2e\"> <span class=\"fYyStc\">www.icc-cricket.com</span> </span> </div></a></td></tr></table></div></div> </div> </div></td><td align=\"center\" class=\"e3goi\"><div class=\"mnTahd\"> <div> <div class=\"lIMUZd\"><div><table class=\"IkMU6e\"><tr><td><a href=\"/url?q=https://www.cricbuzz.com/profiles/1413/virat-kohli&amp;sa=U&amp;ved=2ahUKEwi8mKS4r_2AAxXeVEEAHY9JAt0QqoUBegQIDhAB&amp;usg=AOvVaw1TWXIUq40Z4-5Fnd5vBODb\"><div class=\"NZWO1b\"><img alt=\"\" class=\"yWs4tf\" src=\"https://encrypted-tbn0.gstatic.com/images?q=tbn:ANd9GcRex6xKHaq0ZelmDv9UfgKkFGxqAX5v3u0Jw2ygIvOGDtQ5-9n8PFz9hVPyIFw&amp;s\"/></div></a></td></tr><tr><td><a href=\"/url?q=https://www.cricbuzz.com/profiles/1413/virat-kohli&amp;sa=U&amp;ved=2ahUKEwi8mKS4r_2AAxXeVEEAHY9JAt0Qr4kDegQIDhAC&amp;usg=AOvVaw2hNqD3MertUMm8BBDVo0d9\"><div class=\"jB2rPd\"> <span class=\"qXLe6d x3G5ab\"> <span class=\"fYyStc\">Virat Kohli Profile - ICC...</span> </span> <span class=\"qXLe6d F9iS2e\"> <span class=\"fYyStc\">www.cricbuzz.com</span> </span> </div></a></td></tr></table></div></div> </div> </div></td><td align=\"center\" class=\"e3goi\"><div class=\"mnTahd\"> <div> <div class=\"lIMUZd\"><div><table class=\"IkMU6e\"><tr><td><a href=\"/url?q=https://www.alamyimages.fr/l-inde-virat-kohli-parle-lors-d-une-conference-de-presse-au-unis-old-trafford-manchester-image259668444.html&amp;sa=U&amp;ved=2ahUKEwi8mKS4r_2AAxXeVEEAHY9JAt0QqoUBegQIChAB&amp;usg=AOvVaw2IKTMu-SF6kxpui5x-AtUk\"><div class=\"NZWO1b\"><img alt=\"\" class=\"yWs4tf\" src=\"https://encrypted-tbn0.gstatic.com/images?q=tbn:ANd9GcTP3EMJPlCMZvGYbfp4oxYRWh-2NjAtAJKoR1_6UvHNoahhbcWhkxcuGlV2UA&amp;s\"/></div></a></td></tr><tr><td><a href=\"/url?q=https://www.alamyimages.fr/l-inde-virat-kohli-parle-lors-d-une-conference-de-presse-au-unis-old-trafford-manchester-image259668444.html&amp;sa=U&amp;ved=2ahUKEwi8mKS4r_2AAxXeVEEAHY9JAt0Qr4kDegQIChAC&amp;usg=AOvVaw1mM7PcbU9MCX0QSS-IfVqV\"><div class=\"jB2rPd\"> <span class=\"qXLe6d x3G5ab\"> <span class=\"fYyStc\">L'Inde Virat Kohli parle...</span> </span> <span class=\"qXLe6d F9iS2e\"> <span class=\"fYyStc\">www.alamyimages.fr</span> </span> </div></a></td></tr></table></div></div> </div> </div></td><td align=\"center\" class=\"e3goi\"><div class=\"mnTahd\"> <div> <div class=\"lIMUZd\"><div><table class=\"IkMU6e\"><tr><td><a href=\"/url?q=https://www.gettyimages.fr/photos/virat-kohli-test-cricket&amp;sa=U&amp;ved=2ahUKEwi8mKS4r_2AAxXeVEEAHY9JAt0QqoUBegQIDxAB&amp;usg=AOvVaw1XTkmpPtkcrLOpk0EKVjj3\"><div class=\"NZWO1b\"><img alt=\"\" class=\"yWs4tf\" src=\"https://encrypted-tbn0.gstatic.com/images?q=tbn:ANd9GcRtCP5G1oazjwGy3sXm51c3w6R7Tyy9qedIJDl8h3U-AySSArkd0jXKVpcEcg&amp;s\"/></div></a></td></tr><tr><td><a href=\"/url?q=https://www.gettyimages.fr/photos/virat-kohli-test-cricket&amp;sa=U&amp;ved=2ahUKEwi8mKS4r_2AAxXeVEEAHY9JAt0Qr4kDegQIDxAC&amp;usg=AOvVaw0qqo7H96UYFqFaZ3kE0Iu2\"><div class=\"jB2rPd\"> <span class=\"qXLe6d x3G5ab\"> <span class=\"fYyStc\">5 664 photos et images de...</span> </span> <span class=\"qXLe6d F9iS2e\"> <span class=\"fYyStc\">www.gettyimages.fr</span> </span> </div></a></td></tr></table></div></div> </div> </div></td></tr><tr><td align=\"center\" class=\"e3goi\"><div class=\"mnTahd\"> <div> <div class=\"lIMUZd\"><div><table class=\"IkMU6e\"><tr><td><a href=\"/url?q=https://rapidkings.com/virat-kohli-phone-number-whatsapp-number-house-address-email-id-contacts/&amp;sa=U&amp;ved=2ahUKEwi8mKS4r_2AAxXeVEEAHY9JAt0QqoUBegQICxAB&amp;usg=AOvVaw3WWtpJyEmHMk5tE9S6vhW5\"><div class=\"NZWO1b\"><img alt=\"\" class=\"yWs4tf\" src=\"https://encrypted-tbn0.gstatic.com/images?q=tbn:ANd9GcR6OnSs5mDy3uhCmj7_yrFhJP5OSbo-vKgwUNDfNqXyR4sXaxeEN23wzL1lqg&amp;s\"/></div></a></td></tr><tr><td><a href=\"/url?q=https://rapidkings.com/virat-kohli-phone-number-whatsapp-number-house-address-email-id-contacts/&amp;sa=U&amp;ved=2ahUKEwi8mKS4r_2AAxXeVEEAHY9JAt0Qr4kDegQICxAC&amp;usg=AOvVaw1mnj_-9Vyg0TOwuulUHJc4\"><div class=\"jB2rPd\"> <span class=\"qXLe6d x3G5ab\"> <span class=\"fYyStc\">OFFICIAL CONTACT- Virat...</span> </span> <span class=\"qXLe6d F9iS2e\"> <span class=\"fYyStc\">rapidkings.com</span> </span> </div></a></td></tr></table></div></div> </div> </div></td><td align=\"center\" class=\"e3goi\"><div class=\"mnTahd\"> <div> <div class=\"lIMUZd\"><div><table class=\"IkMU6e\"><tr><td><a href=\"/url?q=https://timesofindia.indiatimes.com/sports/cricket/icc-mens-t20-world-cup/indiat20-world-cup/virat-kohli-should-retire-from-t20is-shoaib-akhtar-gives-bizarre-advice-after-india-beat-pakistan-in-t20-world-cup/articleshow/95085298.cms&amp;sa=U&amp;ved=2ahUKEwi8mKS4r_2AAxXeVEEAHY9JAt0QqoUBegQIBRAB&amp;usg=AOvVaw37GTjXu6fjatMdxiqLz7cK\"><div class=\"NZWO1b\"><img alt=\"\" class=\"yWs4tf\" src=\"https://encrypted-tbn0.gstatic.com/images?q=tbn:ANd9GcQN6zOqYZl_VgwaLr729m9mXknUw5rDp0FDcaFs1ZOzEuYwIBcN-8c14vXFyOI&amp;s\"/></div></a></td></tr><tr><td><a href=\"/url?q=https://timesofindia.indiatimes.com/sports/cricket/icc-mens-t20-world-cup/indiat20-world-cup/virat-kohli-should-retire-from-t20is-shoaib-akhtar-gives-bizarre-advice-after-india-beat-pakistan-in-t20-world-cup/articleshow/95085298.cms&amp;sa=U&amp;ved=2ahUKEwi8mKS4r_2AAxXeVEEAHY9JAt0Qr4kDegQIBRAC&amp;usg=AOvVaw2LWnneX8CPeWURMSdYiRig\"><div class=\"jB2rPd\"> <span class=\"qXLe6d x3G5ab\"> <span class=\"fYyStc\">T20 World Cup: Shoaib...</span> </span> <span class=\"qXLe6d F9iS2e\"> <span class=\"fYyStc\">timesofindia.indiatimes.com...</span> </span> </div></a></td></tr></table></div></div> </div> </div></td><td align=\"center\" class=\"e3goi\"><div class=\"mnTahd\"> <div> <div class=\"lIMUZd\"><div><table class=\"IkMU6e\"><tr><td><a href=\"/url?q=https://www.facebook.com/virat.kohli/%3Flocale%3Dfr_FR&amp;sa=U&amp;ved=2ahUKEwi8mKS4r_2AAxXeVEEAHY9JAt0QqoUBegQIARAB&amp;usg=AOvVaw3GTf1g6-XJatD6UJA0vQIG\"><div class=\"NZWO1b\"><img alt=\"\" class=\"yWs4tf\" src=\"https://encrypted-tbn0.gstatic.com/images?q=tbn:ANd9GcQbktu1Ex81Vcf_2hQF88PNpurplbfc3SK_Fv4sXxb7t3HgP8V30L7hlx0zxQ&amp;s\"/></div></a></td></tr><tr><td><a href=\"/url?q=https://www.facebook.com/virat.kohli/%3Flocale%3Dfr_FR&amp;sa=U&amp;ved=2ahUKEwi8mKS4r_2AAxXeVEEAHY9JAt0Qr4kDegQIARAC&amp;usg=AOvVaw3Z76zfeQd6KEIYbR3jaRN8\"><div class=\"jB2rPd\"> <span class=\"qXLe6d x3G5ab\"> <span class=\"fYyStc\">Virat Kohli</span> </span> <span class=\"qXLe6d F9iS2e\"> <span class=\"fYyStc\">www.facebook.com</span> </span> </div></a></td></tr></table></div></div> </div> </div></td><td align=\"center\" class=\"e3goi\"><div class=\"mnTahd\"> <div> <div class=\"lIMUZd\"><div><table class=\"IkMU6e\"><tr><td><a href=\"/url?q=https://cricketaddictor.com/cricket-news/icc-world-cup-2023-virat-kohli-to-play-icc-t20-world-cup-2024-former-indian-coach-delivers-massive-update/&amp;sa=U&amp;ved=2ahUKEwi8mKS4r_2AAxXeVEEAHY9JAt0QqoUBegQIAxAB&amp;usg=AOvVaw2BFblYd7XWELNwo6l1mtJJ\"><div class=\"NZWO1b\"><img alt=\"\" class=\"yWs4tf\" src=\"https://encrypted-tbn0.gstatic.com/images?q=tbn:ANd9GcRaMPiybVYLUOdjyoaiHLwFmuSokkPjC6Tnv1XfvIR_f5zsCWL1eecIjRHx_CQ&amp;s\"/></div></a></td></tr><tr><td><a href=\"/url?q=https://cricketaddictor.com/cricket-news/icc-world-cup-2023-virat-kohli-to-play-icc-t20-world-cup-2024-former-indian-coach-delivers-massive-update/&amp;sa=U&amp;ved=2ahUKEwi8mKS4r_2AAxXeVEEAHY9JAt0Qr4kDegQIAxAC&amp;usg=AOvVaw2Zh6mYxOZTtHHKvb-y1ltC\"><div class=\"jB2rPd\"> <span class=\"qXLe6d x3G5ab\"> <span class=\"fYyStc\">ICC World Cup 2023: Virat...</span> </span> <span class=\"qXLe6d F9iS2e\"> <span class=\"fYyStc\">cricketaddictor.com</span> </span> </div></a></td></tr></table></div></div> </div> </div></td></tr><tr><td align=\"center\" class=\"e3goi\"><div class=\"mnTahd\"> <div> <div class=\"lIMUZd\"><div><table class=\"IkMU6e\"><tr><td><a href=\"/url?q=https://www.mykhel.com/cricket/players/virat-kohli-p3788/&amp;sa=U&amp;ved=2ahUKEwi8mKS4r_2AAxXeVEEAHY9JAt0QqoUBegQIAhAB&amp;usg=AOvVaw1_3vLjvcvxP6oHd_eb25pT\"><div class=\"NZWO1b\"><img alt=\"\" class=\"yWs4tf\" src=\"https://encrypted-tbn0.gstatic.com/images?q=tbn:ANd9GcTm9WFJuwtEGdCS81c0gSVvF0DTLkE0WZQMntqPjyHiDV6Fe0zPFqkcabcZ7Q&amp;s\"/></div></a></td></tr><tr><td><a href=\"/url?q=https://www.mykhel.com/cricket/players/virat-kohli-p3788/&amp;sa=U&amp;ved=2ahUKEwi8mKS4r_2AAxXeVEEAHY9JAt0Qr4kDegQIAhAC&amp;usg=AOvVaw2gTfsdyq061RLqeAcYa40x\"><div class=\"jB2rPd\"> <span class=\"qXLe6d x3G5ab\"> <span class=\"fYyStc\">Virat Kohli Profile: Age,...</span> </span> <span class=\"qXLe6d F9iS2e\"> <span class=\"fYyStc\">www.mykhel.com</span> </span> </div></a></td></tr></table></div></div> </div> </div></td><td align=\"center\" class=\"e3goi\"><div class=\"mnTahd\"> <div> <div class=\"lIMUZd\"><div><table class=\"IkMU6e\"><tr><td><a href=\"/url?q=https://www.livemint.com/sports/cricket-news/virat-kohli-over-shreyas-iyer-kl-rahul-what-cricketing-legends-suggest-for-indias-success-at-icc-cricket-world-cup-11692252039855.html&amp;sa=U&amp;ved=2ahUKEwi8mKS4r_2AAxXeVEEAHY9JAt0QqoUBegQICBAB&amp;usg=AOvVaw1mP5txJi9GDApKwvfyi4Ub\"><div class=\"NZWO1b\"><img alt=\"\" class=\"yWs4tf\" src=\"https://encrypted-tbn0.gstatic.com/images?q=tbn:ANd9GcStEgPcCVZ8GcFM4CxheiZTrFeiyhxrItiYt1XDq5oWflQRzAULdzUzukiCiQ&amp;s\"/></div></a></td></tr><tr><td><a href=\"/url?q=https://www.livemint.com/sports/cricket-news/virat-kohli-over-shreyas-iyer-kl-rahul-what-cricketing-legends-suggest-for-indias-success-at-icc-cricket-world-cup-11692252039855.html&amp;sa=U&amp;ved=2ahUKEwi8mKS4r_2AAxXeVEEAHY9JAt0Qr4kDegQICBAC&amp;usg=AOvVaw0nFTb_8byfXu1Po4sM8DnA\"><div class=\"jB2rPd\"> <span class=\"qXLe6d x3G5ab\"> <span class=\"fYyStc\">Virat Kohli over Shreyas...</span> </span> <span class=\"qXLe6d F9iS2e\"> <span class=\"fYyStc\">www.livemint.com</span> </span> </div></a></td></tr></table></div></div> </div> </div></td><td align=\"center\" class=\"e3goi\"><div class=\"mnTahd\"> <div> <div class=\"lIMUZd\"><div><table class=\"IkMU6e\"><tr><td><a href=\"/url?q=https://odishatv.in/news/sports/asia-cup-2023-virat-kohli-s-new-haircut-takes-internet-by-storm-212816&amp;sa=U&amp;ved=2ahUKEwi8mKS4r_2AAxXeVEEAHY9JAt0QqoUBegQIBBAB&amp;usg=AOvVaw08RDJ3YMHmO6NnKMAEeW98\"><div class=\"NZWO1b\"><img alt=\"\" class=\"yWs4tf\" src=\"https://encrypted-tbn0.gstatic.com/images?q=tbn:ANd9GcSMfPiBuXpf4xKVq9J77j7eJ_kGMm2jq4u_61lhiFIiM9N23TIO2p6F3txuAlk&amp;s\"/></div></a></td></tr><tr><td><a href=\"/url?q=https://odishatv.in/news/sports/asia-cup-2023-virat-kohli-s-new-haircut-takes-internet-by-storm-212816&amp;sa=U&amp;ved=2ahUKEwi8mKS4r_2AAxXeVEEAHY9JAt0Qr4kDegQIBBAC&amp;usg=AOvVaw0ejP9HsAyykFsFGTHkoSjV\"><div class=\"jB2rPd\"> <span class=\"qXLe6d x3G5ab\"> <span class=\"fYyStc\">Asia Cup 2023: Virat...</span> </span> <span class=\"qXLe6d F9iS2e\"> <span class=\"fYyStc\">odishatv.in</span> </span> </div></a></td></tr></table></div></div> </div> </div></td><td align=\"center\" class=\"e3goi\"><div class=\"mnTahd\"> <div> <div class=\"lIMUZd\"><div><table class=\"IkMU6e\"><tr><td><a href=\"/url?q=https://www.alamyimages.fr/l-inde-le-capitaine-virat-kohli-lors-d-une-conference-de-presse-a-londres-du-seigneur-image214796027.html&amp;sa=U&amp;ved=2ahUKEwi8mKS4r_2AAxXeVEEAHY9JAt0QqoUBegQIBxAB&amp;usg=AOvVaw3QP7AaDEsM610tMqp4IIXz\"><div class=\"NZWO1b\"><img alt=\"\" class=\"yWs4tf\" src=\"https://encrypted-tbn0.gstatic.com/images?q=tbn:ANd9GcTbz-Y8CIbfmFlL4ZfovTbZbJZl2BCus4XAEbKggbwby16cs6TckcMdul2yDg&amp;s\"/></div></a></td></tr><tr><td><a href=\"/url?q=https://www.alamyimages.fr/l-inde-le-capitaine-virat-kohli-lors-d-une-conference-de-presse-a-londres-du-seigneur-image214796027.html&amp;sa=U&amp;ved=2ahUKEwi8mKS4r_2AAxXeVEEAHY9JAt0Qr4kDegQIBxAC&amp;usg=AOvVaw3LdBGlE55xkqIsF4_737Gf\"><div class=\"jB2rPd\"> <span class=\"qXLe6d x3G5ab\"> <span class=\"fYyStc\">L'Inde le capitaine Virat...</span> </span> <span class=\"qXLe6d F9iS2e\"> <span class=\"fYyStc\">www.alamyimages.fr</span> </span> </div></a></td></tr></table></div></div> </div> </div></td></tr><tr><td align=\"center\" class=\"e3goi\"><div> <div> <div class=\"lIMUZd\"><div> <div> <div> <table class=\"HH539\"> <tbody> <tr> <td class=\"aJxI8c B5idHd LOZOx\"> <div class=\"bJHk6c\"> <span class=\"qXLe6d FrIlee\"> <span class=\"fYyStc YVIcad\">Certains résultats peuvent avoir été supprimés conformément à la loi européenne sur la protection des données. </span> <a class=\"M3vVJe\" href=\"/url?q=https://www.google.com/policies/faq&amp;sa=U&amp;ved=2ahUKEwi8mKS4r_2AAxXeVEEAHY9JAt0Q2Dx6BAgAEAI&amp;usg=AOvVaw1fS2A0Xo-26C2d1Gy4wyNi\">En savoir plus</a> </span> </div> </td> </tr> </tbody> </table> </div> <div class=\"IcoMSe\"> </div> </div> </div></div> </div> </div></td></tr></table></div><table class=\"uZgmoc\"><tbody><td><a class=\"frGj1b\" href=\"/search?q=virat+kohli&amp;sca_esv=559765737&amp;rlz=1C1GCEB_enFR1028FR1028&amp;biw=1707&amp;bih=812&amp;ie=UTF-8&amp;tbm=isch&amp;ei=uojrZLzTA96phbIPj5OJ6A0&amp;start=20&amp;sa=N\">Suivant &gt;</a></td></tbody></table><br/><div class=\"TuS8Ad\" data-ved=\"0ahUKEwi8mKS4r_2AAxXeVEEAHY9JAt0QpyoIUQ\"><style>.VYM29{font-weight:bold}</style><div align=\"center\" class=\"HddGcc\"><span class=\"VYM29\">91000, Évry-Courcouronnes</span><span> - </span><span>D'après votre adresse IP</span><span> - </span><a href=\"/url?q=https://support.google.com/websearch%3Fp%3Dws_settings_location%26hl%3Dfr&amp;sa=U&amp;ved=0ahUKEwi8mKS4r_2AAxXeVEEAHY9JAt0Qty4IUg&amp;usg=AOvVaw3e-dGMv656l2VV2BPEU81X\">En savoir plus</a></div><div align=\"center\"><a class=\"rEM8G\" href=\"/url?q=https://accounts.google.com/ServiceLogin%3Fcontinue%3Dhttps://www.google.com/search%253Fsca_esv%253D559765737%2526rlz%253D1C1GCEB_enFR1028FR1028%2526sxsrf%253DAB5stBjd4yL3g8u7SYmH-PVVpbi3mc6YsQ:1692906304065%2526q%253Dvirat%252Bkohli%2526tbm%253Disch%2526source%253Dlnms%2526sa%253DX%2526ved%253D2ahUKEwik4pC3h_aAAxWgU6QEHSnWCtoQ0pQJegQIDhAB%2526biw%253D1707%2526bih%253D812%2526dpr%253D1.13%26hl%3Dfr&amp;sa=U&amp;ved=0ahUKEwi8mKS4r_2AAxXeVEEAHY9JAt0Qxs8CCFM&amp;usg=AOvVaw2DyzkXDlq_qG3y96Zy0CeJ\">Connexion</a></div><div><table class=\"bookcf\"><tbody class=\"InWNIe\"><tr><td><a class=\"rEM8G\" href=\"https://www.google.com/preferences?hl=fr&amp;sa=X&amp;ved=0ahUKEwi8mKS4r_2AAxXeVEEAHY9JAt0Qv5YECFQ\">Paramètres</a></td><td><a class=\"rEM8G\" href=\"https://www.google.com/intl/fr_fr/policies/privacy/\">Confidentialité</a></td><td><a class=\"rEM8G\" href=\"https://www.google.com/intl/fr_fr/policies/terms/\">Conditions</a></td></tr></tbody></table></div></div><div> </div></body></html>"
      ]
     },
     "execution_count": 72,
     "metadata": {},
     "output_type": "execute_result"
    }
   ],
   "source": [
    "soup"
   ]
  },
  {
   "cell_type": "code",
   "execution_count": 77,
   "id": "307e61ae",
   "metadata": {},
   "outputs": [],
   "source": [
    "image_tags=soup.find_all(\"img\")"
   ]
  },
  {
   "cell_type": "code",
   "execution_count": 78,
   "id": "119a9bd9",
   "metadata": {},
   "outputs": [],
   "source": [
    "del image_tags[0]"
   ]
  },
  {
   "cell_type": "code",
   "execution_count": 79,
   "id": "b2bee66f",
   "metadata": {},
   "outputs": [
    {
     "data": {
      "text/plain": [
       "[<img alt=\"\" class=\"yWs4tf\" src=\"https://encrypted-tbn0.gstatic.com/images?q=tbn:ANd9GcT3aZOy9Wug6XHATpagbTGTDlklVruoZOpm-CI-YIPIhmobjLc7S09x85SZCmM&amp;s\"/>,\n",
       " <img alt=\"\" class=\"yWs4tf\" src=\"https://encrypted-tbn0.gstatic.com/images?q=tbn:ANd9GcSApOD8cC7Jh33c0VqbcFkcmx0og9wr1DYsD50a8Tp3p-0I33M_SuuLXA0Kizk&amp;s\"/>,\n",
       " <img alt=\"\" class=\"yWs4tf\" src=\"https://encrypted-tbn0.gstatic.com/images?q=tbn:ANd9GcSTzdbGJyTLBi4eAqh3JxsJtP1bm22Nhhd2LxJPkLHAx9U_InQz5iAiViEs3w&amp;s\"/>,\n",
       " <img alt=\"\" class=\"yWs4tf\" src=\"https://encrypted-tbn0.gstatic.com/images?q=tbn:ANd9GcQgK1euaBncWes7q-O3AAFLq6euq5aY5GJw-6UwaE4WEcqxTs-vKBVHw3HEqg&amp;s\"/>,\n",
       " <img alt=\"\" class=\"yWs4tf\" src=\"https://encrypted-tbn0.gstatic.com/images?q=tbn:ANd9GcRLqGxMbCeVkZIDV3mQfmlpSxuBcW4YTlZBp78_utfaZ7ACU-1GI0fyT3cQVA&amp;s\"/>,\n",
       " <img alt=\"\" class=\"yWs4tf\" src=\"https://encrypted-tbn0.gstatic.com/images?q=tbn:ANd9GcQXhRozPeN_ofFzgMvQcHZvcplv3EpOrLtmrSnBG88kwoJo8RFn0Ev3aLykTYA&amp;s\"/>,\n",
       " <img alt=\"\" class=\"yWs4tf\" src=\"https://encrypted-tbn0.gstatic.com/images?q=tbn:ANd9GcRHlQzK8FbwK4m2XdRphH9iGnQ03FnUFAK76rVzb2YF6De4cXrK8Jt5j9RZq9k&amp;s\"/>,\n",
       " <img alt=\"\" class=\"yWs4tf\" src=\"https://encrypted-tbn0.gstatic.com/images?q=tbn:ANd9GcTcrdhOAJfv-waAdhDc0ficB4vuwT2bBHJGs1NpXkH9vnUzVgCpjmZ9Znl2Y1I&amp;s\"/>,\n",
       " <img alt=\"\" class=\"yWs4tf\" src=\"https://encrypted-tbn0.gstatic.com/images?q=tbn:ANd9GcSwbBCLsJiborD6Ab3Y3pia5izfWrgBhMP5wzQjxLg5ZFM7Z3_6b1OXdFtTJmA&amp;s\"/>,\n",
       " <img alt=\"\" class=\"yWs4tf\" src=\"https://encrypted-tbn0.gstatic.com/images?q=tbn:ANd9GcRex6xKHaq0ZelmDv9UfgKkFGxqAX5v3u0Jw2ygIvOGDtQ5-9n8PFz9hVPyIFw&amp;s\"/>,\n",
       " <img alt=\"\" class=\"yWs4tf\" src=\"https://encrypted-tbn0.gstatic.com/images?q=tbn:ANd9GcTP3EMJPlCMZvGYbfp4oxYRWh-2NjAtAJKoR1_6UvHNoahhbcWhkxcuGlV2UA&amp;s\"/>,\n",
       " <img alt=\"\" class=\"yWs4tf\" src=\"https://encrypted-tbn0.gstatic.com/images?q=tbn:ANd9GcRtCP5G1oazjwGy3sXm51c3w6R7Tyy9qedIJDl8h3U-AySSArkd0jXKVpcEcg&amp;s\"/>,\n",
       " <img alt=\"\" class=\"yWs4tf\" src=\"https://encrypted-tbn0.gstatic.com/images?q=tbn:ANd9GcR6OnSs5mDy3uhCmj7_yrFhJP5OSbo-vKgwUNDfNqXyR4sXaxeEN23wzL1lqg&amp;s\"/>,\n",
       " <img alt=\"\" class=\"yWs4tf\" src=\"https://encrypted-tbn0.gstatic.com/images?q=tbn:ANd9GcQN6zOqYZl_VgwaLr729m9mXknUw5rDp0FDcaFs1ZOzEuYwIBcN-8c14vXFyOI&amp;s\"/>,\n",
       " <img alt=\"\" class=\"yWs4tf\" src=\"https://encrypted-tbn0.gstatic.com/images?q=tbn:ANd9GcQbktu1Ex81Vcf_2hQF88PNpurplbfc3SK_Fv4sXxb7t3HgP8V30L7hlx0zxQ&amp;s\"/>,\n",
       " <img alt=\"\" class=\"yWs4tf\" src=\"https://encrypted-tbn0.gstatic.com/images?q=tbn:ANd9GcRaMPiybVYLUOdjyoaiHLwFmuSokkPjC6Tnv1XfvIR_f5zsCWL1eecIjRHx_CQ&amp;s\"/>,\n",
       " <img alt=\"\" class=\"yWs4tf\" src=\"https://encrypted-tbn0.gstatic.com/images?q=tbn:ANd9GcTm9WFJuwtEGdCS81c0gSVvF0DTLkE0WZQMntqPjyHiDV6Fe0zPFqkcabcZ7Q&amp;s\"/>,\n",
       " <img alt=\"\" class=\"yWs4tf\" src=\"https://encrypted-tbn0.gstatic.com/images?q=tbn:ANd9GcStEgPcCVZ8GcFM4CxheiZTrFeiyhxrItiYt1XDq5oWflQRzAULdzUzukiCiQ&amp;s\"/>,\n",
       " <img alt=\"\" class=\"yWs4tf\" src=\"https://encrypted-tbn0.gstatic.com/images?q=tbn:ANd9GcSMfPiBuXpf4xKVq9J77j7eJ_kGMm2jq4u_61lhiFIiM9N23TIO2p6F3txuAlk&amp;s\"/>,\n",
       " <img alt=\"\" class=\"yWs4tf\" src=\"https://encrypted-tbn0.gstatic.com/images?q=tbn:ANd9GcTbz-Y8CIbfmFlL4ZfovTbZbJZl2BCus4XAEbKggbwby16cs6TckcMdul2yDg&amp;s\"/>]"
      ]
     },
     "execution_count": 79,
     "metadata": {},
     "output_type": "execute_result"
    }
   ],
   "source": [
    "image_tags"
   ]
  },
  {
   "cell_type": "code",
   "execution_count": 80,
   "id": "96125e85",
   "metadata": {},
   "outputs": [
    {
     "data": {
      "text/plain": [
       "20"
      ]
     },
     "execution_count": 80,
     "metadata": {},
     "output_type": "execute_result"
    }
   ],
   "source": [
    "len(image_tags)"
   ]
  },
  {
   "cell_type": "code",
   "execution_count": 81,
   "id": "66ab7c0f",
   "metadata": {},
   "outputs": [
    {
     "data": {
      "text/plain": [
       "b'\\xff\\xd8\\xff\\xe0\\x00\\x10JFIF\\x00\\x01\\x01\\x00\\x00\\x01\\x00\\x01\\x00\\x00\\xff\\xdb\\x00\\x84\\x00\\t\\x06\\x07\\x08\\x07\\x06\\t\\x08\\x07\\x08\\n\\n\\t\\x0b\\r\\x16\\x0f\\r\\x0c\\x0c\\r\\x1b\\x14\\x15\\x10\\x16 \\x1d\"\" \\x1d\\x1f\\x1f$(4,$&1\\'\\x1f\\x1f-=-157:::#+?D?8C49:7\\x01\\n\\n\\n\\r\\x0c\\r\\x1a\\x0f\\x0f\\x1a7%\\x1f%77777777777777777777777777777777777777777777777777\\xff\\xc0\\x00\\x11\\x08\\x00Q\\x00\\xa2\\x03\\x01\"\\x00\\x02\\x11\\x01\\x03\\x11\\x01\\xff\\xc4\\x00\\x1c\\x00\\x00\\x02\\x02\\x03\\x01\\x01\\x00\\x00\\x00\\x00\\x00\\x00\\x00\\x00\\x00\\x00\\x00\\x01\\x02\\x05\\x03\\x06\\x07\\x04\\x08\\xff\\xc4\\x00@\\x10\\x00\\x01\\x03\\x03\\x02\\x04\\x02\\x06\\x06\\x08\\x05\\x05\\x00\\x00\\x00\\x00\\x01\\x00\\x02\\x03\\x04\\x05\\x11\\x12!\\x061AQ\\x13a\\x07\\x14\"2q\\x91\\x153\\x81\\xb1\\xc1\\xe1#Bbr\\xa1\\xd1\\xd2\\xf04Rs\\x82\\x93\\x166S\\xa2\\xb2\\xff\\xc4\\x00\\x19\\x01\\x01\\x01\\x01\\x01\\x01\\x01\\x00\\x00\\x00\\x00\\x00\\x00\\x00\\x00\\x00\\x00\\x00\\x01\\x03\\x02\\x04\\x05\\xff\\xc4\\x00 \\x11\\x01\\x00\\x02\\x03\\x00\\x02\\x02\\x03\\x00\\x00\\x00\\x00\\x00\\x00\\x00\\x00\\x00\\x01\\x11\\x02\\x03!\\x121Aq\\x04\"B\\xff\\xda\\x00\\x0c\\x03\\x01\\x00\\x02\\x11\\x03\\x11\\x00?\\x00\\xe30E\\xe2\\x12I!\\xa0\\xe3n\\xa7\\xb2\\xcc\\xfaA\\x81\\xe1\\xea\\xc9\\x1be\\xc1\\xc1\\xdeY\\x1c\\x8f\\x92T\\xba\\\\4\\x1d\\x8eN>\\x04`\\xfd\\xab;\\x18)\\xa3i:\\xb0$\\x0fqst\\xea\\xc0\\xd9\\xa0\\x1f5\\x05zh\\x03\\x010\\x81!K\\x08\\xc2\\x05\\x84\\xf0\\xa5\\x84\\xc0\\xe8\\x83\\xdbn\\xb4O^5\\xb5\\xcc\\x8e,\\xee\\xf7\\x9f\\x9e\\x07Uz8R\\xdc#h\\x92\\xf0D\\xc4s\\r\\x0eh\\xfb\\xb1\\xd3\\xaa\\xda\\xf8O\\x82\\xe8\\xeeT\\x10\\xcbW$\\xadd\\xac\\x0ed-v0;\\x93\\xdc\\xab\\xb9}\\x16\\xdbd\\x93-\\xab\\x9a&\\xbb\\x1b`\\x15\\x8c\\xec\\xef\\x1bF\\xa9\\xabq\\xab\\x9d\\xae\\xa2\\xdc\\xf6\\xf8\\xba$\\x8d\\xfe\\xe4\\xb1\\x9c\\xb5\\xdf\\xc8\\xf9\\x15\\xe1\\xc2\\xe9\\x9cO\\xc0\\xe6\\xcdU\\x140\\xd5:\\xa2\\x8a\\xa08;8\\x0e\\x0e\\x01s\\xaa\\x88L\\x15\\x12\\xc2w1\\xbc\\xb7\\xe4V\\xb8\\xe5p\\xcf,|e\\x83\\t,\\x98H\\x85\\\\\\xa0\\x92\\x9e\\x12\\xc2\\x08!I, \\x8aJE\"\\xa8HM\\x08\\'\\x84a4\\xd4\\x0b\\t\\xe14\\xd0,)\\x00\\x98\\t\\xe1\\x02\\x01\\x04a\\xa4\\x9d\\xb6S\\t=\\xb9\\x8d\\xdf\\xbaPw+M\\xda\\x86\\xdd\\x1554\\xadp\\xd1\\x13@\\xc1\\x1c\\xb0:g\\'\\xe4\\xaf*\\xaf\\xb6\\xf6H\\xd8gt\\xad\\x91\\xc0\\x10\\xd8\\xd8\\xe7\\x1f\\x8e\\xdd\\x15-\\xb2xe\\xb7\\xb6Ia\\x06H\\xe2\\x03`w\\xd8v\\xe6\\xbd,u\\xa2\\xea\\xe7\\x1ffv\\xc6\\x1a\\xd7\\x12\\xdd\\x83\\x80\\xc6\\x0eG\\xf7\\x82\\xbc|}(\\x89\\xa5w\\x19\\xc9\\xf4\\x85\\xa5\\x86\\x8eV\\xbc2V\\x96\\xf9\\xe4\\xe3n\\xc5q\\x9a\\xe8\\xa4\\x86\\xb2x\\xe7\\xc7\\x8a\\xd7\\x9dxpp\\xcf>cb\\xbbm\\xe2ZG\\xd2<\\x92\\xcajjq\\xafP8\\xf7w\\xfc\\x17\\x16\\xae\\xa85\\xb5\\xb3\\xd5=\\xbaL\\xd2\\x17\\xe9\\xed\\x9e\\x8bm>\\x9eo\\xc8\\x88\\x8f\\xb7\\x93\\tad!,-\\x9ef2\\x14HY\\x08H\\xa0\\xc7\\x84\\x88S)\\xc7\\x1b\\xe5\\x90G\\x13\\x1d$\\x8e\\xe4\\xc64\\xb8\\x9f\\x80\\x080\\xa4\\xad\\x9da\\xad\\x85\\xa1\\xf5\\xde\\r\\x0b\\x08\\xc8\\xf5\\xb9\\x03\\x1c~\\x0c\\x19w\\xf0^Y!\\xa2\\x88\\xe3\\xd6\\xe4\\x98\\xe3\\x7f\\n\\x0c7\\xec. \\xff\\x00\\xea\\xa8\\xf1\\xa1O\\xf4_\\xf8\\xe4\\xff\\x00\\x90\\x7fJj\\x01_\\xf0%\\xa6\\x96\\xf9\\xc5\\xf6\\xbbeyp\\xa5\\xa8\\x98\\x894\\xbbI 4\\xbb\\x19\\xe9\\x9cc\\xedT\\n\\xc2\\xc4\\xda\\'\\xdd\\xa9\\xc5\\xce\\xba\\xa2\\x82\\x9bVMU<e\\xef\\x88\\x8d\\xc1\\x00o\\xcf\\x1c\\xb7A\\xd7/\\x1c3j\\xb7]*h\\xe8\\xfd\\x16\\xd6\\xd7\\xd3\\xc2\\xed1\\xd52\\xbeP%\\x18\\x1b\\xee\\xb5\\xfe%\\xb4\\xd1\\xc7f\\xaa\\x95\\xbe\\x8c\\xee\\x96\\xb722E`\\xad\\x91\\xed\\x84\\xff\\x00\\x99\\xcd \\x82\\x07\\\\\\xfc\\xc2\\xf62\\xb2\\xc8\\x1a\\x03}.^\\xf09f\\x9e|\\xabKo\\x18p\\xf5\\x86\\xd1yd\\xdcgq\\xe2\\x19\\xaa\\xe9\\xfc8`\\x9e\\x9eQ\\xa5\\xd8p\\xd8\\xbba\\x9dC<\\xb9*5\\xff\\x00B\\xfc3g\\xe2J\\xab\\xc3ot~\\xb6\\xdah\\xa2tM29\\xb8..\\xcf\\xbaG`\\xb2\\xe6\\xcd\\xd3\\xd1-\\xdb\\xfej\\xaf\\xe9X}\\x0bq-\\xa3\\x86\\'\\xbb\\xba\\xf5Y\\xea\\xc2xbdG\\xc3s\\xb59\\xba\\xf3\\xee\\x83\\x8eak\\xa7\\x8e\\xb8\\xb0\\xb8\\xe3\\x88\\xee8\\xcfI\\x7f$\\x1b\\x8f\\x1a\\xf0\\xad\\x8e?GT\\xdcICc\\xa9\\xb2\\xd7>f\\xb5\\xf4\\xb3L\\xf7\\x10\\x0b\\xcbpC\\xfe\\x01\\xc0\\xe0\\x1eKW\\xf4\\x7fj\\xb0^\\xaeUt<EV\\xeaO\\x12\\x91\\xe6\\x92]A\\xacl\\x83rI\\xee\\x00\\xc8\\x1c\\x8e\\xf9\\xe8\\xbc\\x9fL\\xde\\xef\\xb3\\xd3\\x0b\\xcdeU\\xce\\x96\\tC\\xcc53\\x11\\x19\\xf2\\xdb\\xcbl\\x8d\\xf0O,\\xafg\\x13\\\\ \\xa8\\x9c>\\x96\\xd9o\\xb7\\x82\\xdf\\xaa\\xa2\\x81\\xb1\\x8cy\\x9eeZKmV\\x19j*\\xac\\xb4\\xed\\x8a\\xa1\\xa3\\xdatm\\x9a<~\\x90\\xb0\\xe0\\x8c;\\x96\\xd8p\\x07\\xa3\\x82\\xb5\\xa6m|P\\x99\\xa7\\x98\\xf8\\x00\\xfbL\\x90G\\xbf\\xda\\xd01\\xf1Z\\x1f\\x07])\\xa8\\xea\\xe5\\xb7\\xdd\\t\\x16\\xab\\x81\\x02G\\x83\\xbc\\x12~\\xac\\xa3\\xb69\\x1f#\\xe4\\xb7\\xaf\\xfa\\x12\\xf1L\\xd9\\xe4\\x99\\xcc\\xaa\\x867\\x01\\x11\\x0f\\xdd\\xed\\xef\\x83\\xfd\\xfcW\\x9f=u\\xe9\\xea\\xd7\\xbb\\x95,7\\t\\xa8&\\xb7M5\\xca\\xc8.p1\\xedtt\\x82\\xa4\\xc3\\xd7Ixp\\xe7\\x82\\xe01\\xfbYZ\\x0f\\x15Mg\\x9cDm<9Sg\\x91\\xa4\\xf8\\xa5\\xf5N\\x99\\x8f\\x18\\xe9\\xa8ls\\xd8\\xae\\x8fu\\x8b\\xc0\\xe1\\xeb\\xbbgid\\xc2(\\xd9\\x03Cyxr5\\xef\\xcfl\\xe3\\x1f\\xed+P-\\x95\\xee\\x02\\x1dG^4\\xb4nN{\\x05\\xa6\\xac\\x7fV[f\\xf3\\\\\\xf0\\x87\\r\\xd3\\xd7p\\xdd\\rL\\x9e\\x8f\\xa4\\xba:F8\\x9a\\xd1ulBoh\\x8c\\xe9\\xd41\\xdb\\xecS\\xe2\\x1a+\\x07\\r\\xd2\\xc5Uy\\xf4k-<2\\xc9\\xe11\\xdfK\\xeb\\xcb\\xb0N=\\x97\\x1e\\x80\\xa9\\\\\\xe8\\xee\\xb1X\\xfe\\x8c\\xa8\\x99\\xd3\\xdb\\x9a\\x03\\xe6\\x86\\x9d\\xc4\\ng\\x03\\x9d\\xc8\\xdd\\xbc\\xf3\\xb6\\xdd\\xd6\\xad\\r\\x8a\\xc73\\xa7\\x17\\x8e\"\\xa8\\xb65\\x8ei\\x88IN\\xea\\x80\\xf0A\\xdc\\x10v\\xe4G%\\xdf\\xb8\\xb8g115*\\x0b\\xd5m\\xb2\\xa6\\xf2j\\xad6\\xa1GB4\\x16\\xd1K+\\xa4\\x07\\x1e\\xf6]\\x9c\\xe0\\xf9\\x15\\xbe\\xd0\\xd3\\xfa8\\xe2n\\x1f\\x95\\xb1R\\xcdd\\xbc\\xb0\\x0cE\\x0b\\xa4\\x99\\xc5\\xdf\\xb0\\t!\\xed\\xef\\xc8\\x8e\\xa4sZ\\x05\\xd2\\x8e\\xddOxu-\\xba\\xe8*\\xe8Ahmk\\xa0s\\x01\\xc8\\x04\\x9d\\x1c\\xf69\\x1ex[ \\xbfY8z\\xd8b\\xe1\\xf1\\xeb5\\xb2\\x0c:i##~\\xee\\xc8\\x1bvhA\\xe3<1Af\\x84Uq-a\\xdc\\xfb\\x14\\x94\\xfe\\xfb\\xfe\\'\\xf9l;\\xaa\\xfa\\xbe&\\x99\\xb1\\xba\\x9e\\xc9M\\x15\\xae\\x94\\xf3\\xf0\\x07\\xe9_\\xfb\\xcf\\xe7\\xf2\\xf9\\xad\\xd3\\x828\\xf6\\xc8\\xebmE\\x8b\\x8d\\xe8!\\x96\\x96\\xa9\\xc5\\xcf\\xad\\x11\\x17\\x17\\x9e\\x9e \\x1b\\xe4tsym\\xb0\\xc6V\\x99\\xc5\\xf6\\xfe\\x1f\\xa3\\xae\\xd7\\xc2\\xf7\\x8f_\\xa2\\x94\\x92#|Od\\x90y\\x12\\xe0\\x03\\x87c\\xcf\\xbft\\x1a\\xfb\\xcb\\x9e\\xf7=\\xee.{\\xb7.q\\xc9?\\x12\\xa2\\xa4RPE\\nH@ \\x14\\xb2\\x84\\x13\\t\\xa8e0PdY!\\xc6\\xbc\\xb9\\xba\\x80\\xe9\\xdda\\xca\\xc9\\x1c\\x85\\xbbh\\x0e\\xcf\\\\\\xe3\\x08/\\xa0\\xack\\xa3\\x01\\x8dk\\x00\\xfdLr^z\\x98\\xe5\\x95\\xfa\\xf3\\xaf\\xf0^h\\xa5\\r\\x03\\xc4c\\x99\\xd8\\xf3\\x08\\x86w\\xc1R\\x01pt/8\\xc7@\\xbbG\\xb6*b\\x1b\\xa5\\xf8\\xcfn\\x8b\\xb7z+\\xbf6\\xf9j\\xfa:\\xbaMUv\\xd0\\x03A;\\xbe>Mw\\x9e=\\xdf\\x97u\\xc4\\xe1\\x97\\xdbt\\x12\\x1c\\x11\\xf5n\\xee;+n\\x15\\xae\\xa8\\xb2q\\r\\rt2Jt\\xce\\xc1+a\\x04\\xbeH\\xc9\\xf6\\x99\\x8e\\xb9\\x1d1\\xd9$}\\x11y\\xb6SW\\xda\\xeai\\x9d\\x1b14OnH\\xee\\xd2?\\x15\\xccx\\x12\\xc9S\\r\\x1b.\\x95\\xb1\\xe8s\\xda=\\\\=\\xbb\\xb0\\x11\\xbb\\xfc\\xb3\\xd3\\xf3]6\\xb2\\xabP\\xd1\\x11!\\x80\\xe7P8\\xcf\\xe4\\xaa+\\x1c_\\x0b\\xdb\\xa4H\\\\0\\x03\\x9d\\xb1\\xfc\\x97\\x9f=\\x9f\\x10\\xf4k\\xd7\\xfdKQ\\xbbR\\x8a\\xa8s\\x13\\xcd-\\xb3\\xf4\\x86j\\xa7<{d\\xb7\\x05\\xde{\\x9f\\x86\\xdd\\x17/\\xbfi\\x12\\xcf\\x00\\x97[#c\\xc6\\xb2\\xcd%\\xda]\\x86\\xecyg\\xb7E\\xd2.T\\xf7\\t\\x8c\\xe6\\xf3_I\\x04 \\x10\\xd8\\xd8\\xf2\\xf2\\x1b\\x91\\x82\\x1a:\\xe3?5\\xa3\\xf1]\\xbf\\xd5\\xaep\\xcd\\x13\\xbcJ\\x0b\\x8d>\\xb8f\\x93br\\x00x\\xc7\\xf9\\x81<\\xbfh&\\x9eq\\xd6\\xfe\\xc4KK%D\\x94\\x1d\\x89\\x1d\\x94r\\xb5y\\x8dD\\xa0\\x94\\x89@\\x14\\x8a\\x10\\x80B\\x10\\x82(QO*\\x89e\\x00\\xa8\\xe5\\x00\\xa8\\'\\x95\\x9e\\x94jy\\xceyt\\x19^l\\xac\\xf4o,\\x98\\x11\\xcf\\x08J\\xc2\\x11\\xa7\\xbe\\x93\\xd0\\xb7e\\x1a\\xe8\\x03\\x18$h\\xc0\\xc89\\x0b\\xd2\\xe9\\x00\\x8c8H\\xc6g\\x91\\xd3\\xb9\\xf2\\xc2\\x83\\xa9\\xdd,n\\x13\\x977;\\x8c\\xfe\\x03\\xfb\\xf8.\\xdc\\xb3\\xb1\\x82\\xa1\\x8csO\\xb4\\x06r:c\\xaa\\xb0\\xb7]\\'\\xb4W\\xd3WQ9\\xbe\\xb1O \\x91\\xb9\\x1b\\x129\\x83\\xe4w\\x1fj\\xae{\\xe2\\x8d\\xa1\\xb0\\xb7K[\\xe7\\xb9\\xf8\\xaf3\\xea\\x03v\\xc9?\\x04W\\xd1\\xb3\\xde\\xd9t\\xb4[nVH\\rG\\xd2.\\xd0#\\xd6\\xd6\\x98\\xdf\\x82\\\\\\x1cN\\xdbip>as\\xcfI\\xdcC|\\xb3C\\x1c-\\x86*gJK|fI\\xad\\xc3`v\\xe9\\xd7\\xf8-S\\x84\\xb8\\xbe\\xe5e\\x95\\x94\\xb4\\xaf&\\x19\\xa7k\\xbc02Z\\xeci%\\xbego\\x97\\xc5m\\xdcul\\x9a\\xf1\\xc3\\xf2U\\xcdMU%\\x7f\\x86f\\x1e\\x08/`\\xc6\\t\\xc8\\xfd\\\\\\xf9y\\xac\\xa7\\x08\\xbbi\\x1b2\\xaasN\\x1e\\xb9\\xd6\\xba\\xbeS$\\xd2\\xce\\xe7FK\\x9a\\xf7\\x17\\x13\\xb8\\xcf\\xf0\\xddt+S$\\xbcX\\xa6\\xb2VF\\xccCO$\\xf4R\\x81\\x83\\x1b\\xd8\\xd2\\xe1\\xf6\\x11\\x90~+\\x91\\xc3$\\xd4\\xd32\\xa2\\x07:9\\x18u5\\xcd\\xe6\\n\\xddm\\xbe\\x90\\xeb\\x19EQ\\x15Pk\\x9f$N\\x8c\\xe0\\x91\\xa9\\xa4cnx?~\\xfc\\x95\\xf1\\xed\\xa7\\x97)\\xae\\xdd\\xda\\xd6\\xcf\\xa9\\xad!\\xce\\xdd\\xfd\\xb3\\xdcy*\\xf2U\\xac5L\\x96\\x8c2V6C\\xa3F]\\xfa\\xa7\\x1c\\xf2\\xaa\\\\\\x0b\\x1cZ\\xeecb\\xba\\x97#(\\xca\\x8a\\x14\\r\\te\\x08\\x1a\\x12B\\x08\\xa1\\x08T\\t\\x84\\x90\\xa0k-7\\xd7\\xb5\\x08BV\\x8c\\xff\\x00\\x14\\xcf\\xf4\\xff\\x00\\x15\\xea\\x9f\\xde?\\xbc~\\xe4!v\\xe5\\xe3\\x93\\xde^7\\xfb\\xc7\\xe0\\x84$\\xaa\\xf3\\x81\\xbf\\xee\\xabo\\xef\\xbb\\xff\\x00\\x87.\\xedc\\xfa\\xa9\\xbf\\xd3?r\\x10\\xb9\\x9fd\\xbeco\\xd5}\\x85`o$!\\x15\\xec\\xa6\\xfa\\x8f\\xf7\\x0f\\xbc\\xa7W\\xfe!\\xc8B|\\x0c)\\x14!@&\\x10\\x84\\x02\\x10\\x84\\x1f\\xff\\xd9'"
      ]
     },
     "execution_count": 81,
     "metadata": {},
     "output_type": "execute_result"
    }
   ],
   "source": [
    "requests.get(\"https://encrypted-tbn0.gstatic.com/images?q=tbn:ANd9GcSGOh0dbRiUqwjADf_wG70gK7QaNFi-JVJZQEVwlasO7pkSY4oUWSEwU6ydKRY&s\").content"
   ]
  },
  {
   "cell_type": "code",
   "execution_count": 82,
   "id": "1d48e40e",
   "metadata": {},
   "outputs": [
    {
     "name": "stdout",
     "output_type": "stream",
     "text": [
      "0\n",
      "1\n",
      "2\n",
      "3\n",
      "4\n",
      "5\n",
      "6\n",
      "7\n",
      "8\n",
      "9\n",
      "10\n",
      "11\n",
      "12\n",
      "13\n",
      "14\n",
      "15\n",
      "16\n",
      "17\n",
      "18\n",
      "19\n"
     ]
    }
   ],
   "source": [
    "for i in image_tags:\n",
    "    print(image_tags.index(i))"
   ]
  },
  {
   "cell_type": "code",
   "execution_count": 84,
   "id": "c93200a9",
   "metadata": {},
   "outputs": [
    {
     "data": {
      "text/plain": [
       "'image/virat kohli_19.jpg'"
      ]
     },
     "execution_count": 84,
     "metadata": {},
     "output_type": "execute_result"
    }
   ],
   "source": [
    "os.path.join(save_dir,f\"{query}_{image_tags.index(i)}.jpg\")"
   ]
  },
  {
   "cell_type": "code",
   "execution_count": 83,
   "id": "7da746f3",
   "metadata": {},
   "outputs": [],
   "source": [
    "for i in image_tags:\n",
    "    image_url=i['src']\n",
    "    image_data=requests.get(image_url).content\n",
    "    with open(os.path.join(save_dir,f\"{query}_{image_tags.index(i)}.jpg\"),\"wb\")as f:#wb write byte mode\n",
    "        f.write(image_data)"
   ]
  },
  {
   "cell_type": "code",
   "execution_count": 56,
   "id": "2aea3215",
   "metadata": {},
   "outputs": [
    {
     "name": "stdout",
     "output_type": "stream",
     "text": [
      "https://encrypted-tbn0.gstatic.com/images?q=tbn:ANd9GcSGOh0dbRiUqwjADf_wG70gK7QaNFi-JVJZQEVwlasO7pkSY4oUWSEwU6ydKRY&s\n",
      "https://encrypted-tbn0.gstatic.com/images?q=tbn:ANd9GcQ91bYeYuNi93Snai-G61-ct5IkXUEpoeW1RpiOFFuRWggNeJf-7uN0OZsy5XI&s\n",
      "https://encrypted-tbn0.gstatic.com/images?q=tbn:ANd9GcQELwMgpYsqdbuYYYjdVLTZD3xpv-m90LoeOq2czwjI5fCJPbBgzY69kEoO6Ew&s\n",
      "https://encrypted-tbn0.gstatic.com/images?q=tbn:ANd9GcQp708T6yRyOtqcptlWDlKhtGvoeYbRZccy-RovCqpwUhQz_9JQpRsCtjnfews&s\n",
      "https://encrypted-tbn0.gstatic.com/images?q=tbn:ANd9GcQsAJw97cDQkm4zgzvPZ4AjMlP8iXD8MVR6nQvcNvA6kSs_p8pFLtReZHIvrg&s\n",
      "https://encrypted-tbn0.gstatic.com/images?q=tbn:ANd9GcRn2nT61p_uNUK3hqmIScH0Bc0M7_1Lt0auetL6qCn25jIPfd6XE5dJUaXLPw&s\n",
      "https://encrypted-tbn0.gstatic.com/images?q=tbn:ANd9GcTLCqReGEiM6NalvugFAlHNMTqJ1xc0NA_3n_HBwSRoNMd8X5iuidiYYBtxwmo&s\n",
      "https://encrypted-tbn0.gstatic.com/images?q=tbn:ANd9GcSIra9VHzFqROCztlbadL8Yg7lz_a1zWJCOAJMYOq75VF0FGOHVh2rqkA-wYQ&s\n",
      "https://encrypted-tbn0.gstatic.com/images?q=tbn:ANd9GcSMYNRVFWT78z1HfCjjsXyWHH40VRIwjNiYar3jQYHUhnaCQJZ6GSxCQ6cYto8&s\n",
      "https://encrypted-tbn0.gstatic.com/images?q=tbn:ANd9GcQTaNHWZ4tcSD3zcJky1XLlhLZV0SMXePQn8-3_i6H7Ryz3C-ocudW0MBy_x90&s\n",
      "https://encrypted-tbn0.gstatic.com/images?q=tbn:ANd9GcQY_R5NSNoZkSlMo3hf86COGJ4fCv0s6Nx4k8uCGkWc6YGOn_m4-rIOQ3GhOhg&s\n",
      "https://encrypted-tbn0.gstatic.com/images?q=tbn:ANd9GcTetLKGWsXuK9IBN7a5-r1IWwxtqYB-8DhsS95M6fgPRPXY6sJn0ynOSxDctg&s\n",
      "https://encrypted-tbn0.gstatic.com/images?q=tbn:ANd9GcTYevBIlgtqSSbx4CqOVLwKkG7tHCpchXWTDe0_TqjlhtxXLYLKFzl9r0Rklw&s\n",
      "https://encrypted-tbn0.gstatic.com/images?q=tbn:ANd9GcSYGVxlRfbpfSHJaOJdyPLG85qpD0jaW3xn67NQPdjAbp_Ug6ym0a4kBkAZ3A&s\n",
      "https://encrypted-tbn0.gstatic.com/images?q=tbn:ANd9GcQ3EXLdlZrRkD6UZswDLVFys6wkjhOKh0fgCpLxHlHv6c5zs1B8jcsSJsM6nB8&s\n",
      "https://encrypted-tbn0.gstatic.com/images?q=tbn:ANd9GcQM97QW1fnYuhoBOyXWfpfdPSI3FL4WPhUrqtBkaP3QGW_PGziYZV3peMme-A&s\n",
      "https://encrypted-tbn0.gstatic.com/images?q=tbn:ANd9GcR6q3aMFjLHj_dT4HUSawJix7jfBqb_WIVqjjYcunpo9fvsWBEj6qEqM10yTGQ&s\n",
      "https://encrypted-tbn0.gstatic.com/images?q=tbn:ANd9GcQGdm0F7h412BRRlt71iYQJZqcmwcn_1Gz9YBp52UXxqBMfx6sm64T_Znf0T5U&s\n",
      "https://encrypted-tbn0.gstatic.com/images?q=tbn:ANd9GcT-kFv6CBMaDMdvQfL4Bl3fB4W9gwJAmh_US1xghYGm20eqVXUn-nzIwVm99A&s\n"
     ]
    }
   ],
   "source": [
    "#for i in image_tags:\n",
    " #   print(i['src'])"
   ]
  },
  {
   "cell_type": "code",
   "execution_count": 57,
   "id": "2a0ea600",
   "metadata": {},
   "outputs": [],
   "source": [
    "for i in image_tags:\n",
    "    image_url=i['src']\n",
    "    requests.get(image_url)"
   ]
  },
  {
   "cell_type": "code",
   "execution_count": 58,
   "id": "cedff3c1",
   "metadata": {},
   "outputs": [
    {
     "data": {
      "text/plain": [
       "'https://encrypted-tbn0.gstatic.com/images?q=tbn:ANd9GcT-kFv6CBMaDMdvQfL4Bl3fB4W9gwJAmh_US1xghYGm20eqVXUn-nzIwVm99A&s'"
      ]
     },
     "execution_count": 58,
     "metadata": {},
     "output_type": "execute_result"
    }
   ],
   "source": [
    "image_url"
   ]
  },
  {
   "cell_type": "code",
   "execution_count": null,
   "id": "56afed0d",
   "metadata": {},
   "outputs": [],
   "source": []
  }
 ],
 "metadata": {
  "kernelspec": {
   "display_name": "Python 3 (ipykernel)",
   "language": "python",
   "name": "python3"
  },
  "language_info": {
   "codemirror_mode": {
    "name": "ipython",
    "version": 3
   },
   "file_extension": ".py",
   "mimetype": "text/x-python",
   "name": "python",
   "nbconvert_exporter": "python",
   "pygments_lexer": "ipython3",
   "version": "3.11.3"
  }
 },
 "nbformat": 4,
 "nbformat_minor": 5
}
